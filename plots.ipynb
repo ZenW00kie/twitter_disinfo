{
 "cells": [
  {
   "cell_type": "code",
   "execution_count": 1,
   "metadata": {},
   "outputs": [],
   "source": [
    "import networkx as nx\n",
    "from matplotlib import pyplot as plt\n",
    "import pandas as pd\n",
    "import numpy as np\n",
    "from itertools import count\n",
    "\n",
    "import gc\n",
    "import builder\n",
    "\n",
    "def save_graph(graph, layout,file_name):\n",
    "    groups = set(nx.get_node_attributes(graph,'country').values())\n",
    "    mapping = dict(zip(sorted(groups),count()))\n",
    "    nodes = graph.nodes()\n",
    "    colors = [mapping[graph.node[n]['country']] for n in nodes]\n",
    "    \n",
    "    from matplotlib import pylab\n",
    "    plt.figure(num=None, figsize=(20, 20), dpi=80)\n",
    "    layouts = {'spring':nx.spring_layout, \n",
    "               'kamada_kawai':nx.kamada_kawai_layout, \n",
    "               'shell':nx.shell_layout, \n",
    "               'spectral':nx.spectral_layout, \n",
    "               'circular':nx.circular_layout}\n",
    "    fig = plt.figure(1)\n",
    "    pos = layouts[layout](graph)\n",
    "    ec = nx.draw_networkx_edges(graph, pos, alpha=0.2)\n",
    "    nc = nx.draw_networkx_nodes(graph, pos, nodelist=nodes, node_color=colors, \n",
    "                                with_labels=False, node_size=15, cmap=plt.cm.jet)\n",
    "    plt.title('Russian (Red) & Iranian (Blue) Core Troll Accounts')\n",
    "    plt.axis('off')\n",
    "    plt.savefig(file_name,bbox_inches=\"tight\")\n",
    "    plt.close()\n",
    "    del fig, groups, mapping, nodes, colors\n",
    "    del ec, nc"
   ]
  },
  {
   "cell_type": "code",
   "execution_count": 2,
   "metadata": {},
   "outputs": [],
   "source": [
    "users, interactions = builder.full_network()\n",
    "core = [u for u in users if u[1]['account'] == 'removed']\n",
    "users = [u[0] for u in core]\n",
    "interactions = interactions[interactions['source'].isin(users) & interactions['target'].isin(users)]"
   ]
  },
  {
   "cell_type": "code",
   "execution_count": null,
   "metadata": {},
   "outputs": [],
   "source": [
    "directed_core = nx.DiGraph()\n",
    "directed_core.add_nodes_from(core)\n",
    "directed_core.add_weighted_edges_from(interactions[['source','target','total']].values, weight='total')"
   ]
  },
  {
   "cell_type": "code",
   "execution_count": 3,
   "metadata": {},
   "outputs": [
    {
     "name": "stderr",
     "output_type": "stream",
     "text": [
      "/home/ron/miniconda3/envs/comp150ns_env/lib/python3.7/site-packages/networkx/drawing/nx_pylab.py:579: MatplotlibDeprecationWarning: \n",
      "The iterable function was deprecated in Matplotlib 3.1 and will be removed in 3.3. Use np.iterable instead.\n",
      "  if not cb.iterable(width):\n",
      "/home/ron/miniconda3/envs/comp150ns_env/lib/python3.7/site-packages/networkx/drawing/nx_pylab.py:676: MatplotlibDeprecationWarning: \n",
      "The iterable function was deprecated in Matplotlib 3.1 and will be removed in 3.3. Use np.iterable instead.\n",
      "  if cb.iterable(node_size):  # many node sizes\n"
     ]
    }
   ],
   "source": [
    "save_graph(directed_core, 'kamada_kawai','kamada_kawai.pdf')"
   ]
  },
  {
   "cell_type": "code",
   "execution_count": null,
   "metadata": {},
   "outputs": [],
   "source": []
  },
  {
   "cell_type": "code",
   "execution_count": null,
   "metadata": {},
   "outputs": [],
   "source": []
  }
 ],
 "metadata": {
  "kernelspec": {
   "display_name": "Python 3",
   "language": "python",
   "name": "python3"
  },
  "language_info": {
   "codemirror_mode": {
    "name": "ipython",
    "version": 3
   },
   "file_extension": ".py",
   "mimetype": "text/x-python",
   "name": "python",
   "nbconvert_exporter": "python",
   "pygments_lexer": "ipython3",
   "version": "3.7.7"
  }
 },
 "nbformat": 4,
 "nbformat_minor": 4
}
