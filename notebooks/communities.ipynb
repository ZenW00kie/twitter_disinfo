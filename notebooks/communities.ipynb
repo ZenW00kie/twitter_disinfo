{
 "cells": [
  {
   "cell_type": "code",
   "execution_count": 2,
   "metadata": {},
   "outputs": [],
   "source": [
    "import networkx as nx\n",
    "from matplotlib import pyplot as plt\n",
    "import pandas as pd\n",
    "import numpy as np\n",
    "from multiprocessing.dummy import Pool as ThreadPool\n",
    "import community as community_louvain\n",
    "import builder"
   ]
  },
  {
   "cell_type": "code",
   "execution_count": 3,
   "metadata": {},
   "outputs": [],
   "source": [
    "users, interactions = builder.full_network()"
   ]
  },
  {
   "cell_type": "code",
   "execution_count": 28,
   "metadata": {},
   "outputs": [],
   "source": [
    "user_info = builder.user_info()"
   ]
  },
  {
   "cell_type": "code",
   "execution_count": 5,
   "metadata": {},
   "outputs": [],
   "source": [
    "core = [u for u in users if u[1]['account'] == 'removed']\n",
    "core_users = [u[0] for u in core]\n",
    "core_interactions = interactions[interactions['source'].isin(core_users) & interactions['target'].isin(core_users)]"
   ]
  },
  {
   "cell_type": "code",
   "execution_count": 6,
   "metadata": {},
   "outputs": [],
   "source": [
    "core_info = core_interactions.groupby(['source'])['retweets', 'replies', 'mentions', 'total'].sum().reset_index()\n",
    "core_info = user_info.merge(core_info, left_on='userid', right_on='source')\n",
    "core_info.drop(['source','total'], axis=1, inplace=True)\n",
    "core_info['follower_count'] = core_info['follower_count'].astype(float)\n",
    "core_info['following_count'] = core_info['following_count'].astype(float)\n",
    "core_info = core_info.set_index('userid')"
   ]
  },
  {
   "cell_type": "markdown",
   "metadata": {},
   "source": [
    "# Core Graph"
   ]
  },
  {
   "cell_type": "code",
   "execution_count": null,
   "metadata": {},
   "outputs": [],
   "source": [
    "self_contact = core_interactions[core_interactions['source'] == core_interactions['target']]['source'].unique()"
   ]
  },
  {
   "cell_type": "code",
   "execution_count": null,
   "metadata": {},
   "outputs": [],
   "source": [
    "self_contact = [u for u in self_contact if u not in core_interactions[core_interactions['source'] != core_interactions['target']]['source'].unique()]\n",
    "self_contact = [u for u in self_contact if u not in core_interactions[core_interactions['source'] != core_interactions['target']]['target'].unique()]"
   ]
  },
  {
   "cell_type": "code",
   "execution_count": 29,
   "metadata": {},
   "outputs": [],
   "source": [
    "core_interactions = core_interactions[~core_interactions['source'].isin(self_contact)]"
   ]
  },
  {
   "cell_type": "code",
   "execution_count": 30,
   "metadata": {},
   "outputs": [],
   "source": [
    "undirected_core = nx.Graph()\n",
    "undirected_core.add_weighted_edges_from(core_interactions[['source','target','total']].values, weight='total')"
   ]
  },
  {
   "source": [
    "### Louvain Communities"
   ],
   "cell_type": "markdown",
   "metadata": {}
  },
  {
   "cell_type": "code",
   "execution_count": 32,
   "metadata": {},
   "outputs": [],
   "source": [
    "part, mod = louvain(undirected_core)\n",
    "partitions = pd.Series(part).reset_index()\n",
    "partitions.columns = ['userid','community']"
   ]
  },
  {
   "cell_type": "code",
   "execution_count": 33,
   "metadata": {},
   "outputs": [],
   "source": [
    "user_info = user_info[~user_info['userid'].isin(self_contact)].drop(['follower_count','following_count','account_creation_date','account_language'], axis=1)\n",
    "user_info = user_info.merge(partitions, on='userid')"
   ]
  },
  {
   "cell_type": "code",
   "execution_count": 36,
   "metadata": {},
   "outputs": [],
   "source": [
    "community_info = user_info.groupby(['community','country'])['userid'].count().unstack('country')\n",
    "community_info = community_info.fillna(0)\n",
    "community_info['total'] = community_info['iran'] + community_info['russia']\n",
    "community_info = community_info[community_info['total'] > 5]\n",
    "communities = community_info.index.values"
   ]
  },
  {
   "cell_type": "code",
   "execution_count": 38,
   "metadata": {},
   "outputs": [],
   "source": [
    "com = 0\n",
    "mapping = {}\n",
    "for c in communities:\n",
    "    mapping[c] = com\n",
    "    com += 1"
   ]
  },
  {
   "cell_type": "code",
   "execution_count": 39,
   "metadata": {},
   "outputs": [],
   "source": [
    "user_info['label'] = user_info['community'].map(mapping)\n",
    "user_info.loc[(~user_info['community'].isin(communities)) & (user_info['country'] == 'iran'), 'label'] = com\n",
    "com += 1\n",
    "user_info.loc[(~user_info['community'].isin(communities)) & (user_info['country'] == 'russia'), 'label'] = com"
   ]
  },
  {
   "cell_type": "code",
   "execution_count": 41,
   "metadata": {},
   "outputs": [],
   "source": [
    "mapping = user_info[user_info['userid'].isin(self_contact)][['userid','label']].set_index('userid')['label'].to_dict()"
   ]
  },
  {
   "cell_type": "code",
   "execution_count": 43,
   "metadata": {},
   "outputs": [
    {
     "output_type": "error",
     "ename": "NameError",
     "evalue": "name 'graph' is not defined",
     "traceback": [
      "\u001b[0;31m---------------------------------------------------------------------------\u001b[0m",
      "\u001b[0;31mNameError\u001b[0m                                 Traceback (most recent call last)",
      "\u001b[0;32m<ipython-input-43-9c36a8abd707>\u001b[0m in \u001b[0;36m<module>\u001b[0;34m\u001b[0m\n\u001b[1;32m      3\u001b[0m \u001b[0mpos\u001b[0m \u001b[0;34m=\u001b[0m \u001b[0mnx\u001b[0m\u001b[0;34m.\u001b[0m\u001b[0mkamada_kawai_layout\u001b[0m\u001b[0;34m(\u001b[0m\u001b[0mundirected_core\u001b[0m\u001b[0;34m)\u001b[0m\u001b[0;34m\u001b[0m\u001b[0;34m\u001b[0m\u001b[0m\n\u001b[1;32m      4\u001b[0m \u001b[0;31m# nx.draw_networkx_nodes(undirected_core, pos, node_size=10, cmap=plt.cm.jet, node_color=)\u001b[0m\u001b[0;34m\u001b[0m\u001b[0;34m\u001b[0m\u001b[0;34m\u001b[0m\u001b[0m\n\u001b[0;32m----> 5\u001b[0;31m \u001b[0mec\u001b[0m \u001b[0;34m=\u001b[0m \u001b[0mnx\u001b[0m\u001b[0;34m.\u001b[0m\u001b[0mdraw_networkx_edges\u001b[0m\u001b[0;34m(\u001b[0m\u001b[0mgraph\u001b[0m\u001b[0;34m,\u001b[0m \u001b[0mpos\u001b[0m\u001b[0;34m,\u001b[0m \u001b[0malpha\u001b[0m\u001b[0;34m=\u001b[0m\u001b[0;36m0.2\u001b[0m\u001b[0;34m)\u001b[0m\u001b[0;34m\u001b[0m\u001b[0;34m\u001b[0m\u001b[0m\n\u001b[0m\u001b[1;32m      6\u001b[0m nc = nx.draw_networkx_nodes(graph, pos, nodelist=mapping.keys(), node_color=list(mapping.values()), \n\u001b[1;32m      7\u001b[0m                                 with_labels=False, node_size=10, cmap=plt.cm.jet)\n",
      "\u001b[0;31mNameError\u001b[0m: name 'graph' is not defined"
     ]
    }
   ],
   "source": [
    "plt.figure(num=None, figsize=(20, 20), dpi=80)\n",
    "fig = plt.figure(1)\n",
    "pos = nx.kamada_kawai_layout(undirected_core)\n",
    "# nx.draw_networkx_nodes(undirected_core, pos, node_size=10, cmap=plt.cm.jet, node_color=)\n",
    "ec = nx.draw_networkx_edges(undirected_core, pos, alpha=0.2)\n",
    "nc = nx.draw_networkx_nodes(undirected_core, pos, nodelist=mapping.keys(), node_color=list(mapping.values()), \n",
    "                                with_labels=False, node_size=10, cmap=plt.cm.jet)\n",
    "plt.axis('off')\n",
    "plt.title('Russian & Iranian Suspended Twitter Accounts')\n",
    "plt.savefig('kamada_kawai_communities.pdf',bbox_inches=\"tight\")\n",
    "plt.close()"
   ]
  },
  {
   "cell_type": "markdown",
   "metadata": {},
   "source": [
    "# Full Graph"
   ]
  },
  {
   "cell_type": "code",
   "execution_count": null,
   "metadata": {},
   "outputs": [],
   "source": [
    "full_graph = nx.Graph()\n",
    "full_graph.add_weighted_edges_from(interactions[['source','target','total']].values, weight='total')"
   ]
  },
  {
   "cell_type": "code",
   "execution_count": null,
   "metadata": {},
   "outputs": [],
   "source": [
    "part, mod = louvain(full_graph)"
   ]
  },
  {
   "cell_type": "code",
   "execution_count": null,
   "metadata": {},
   "outputs": [],
   "source": [
    "user_info.drop(['follower_count','following_count','account_creation_date','account_language'], axis=1, inplace=True)"
   ]
  },
  {
   "cell_type": "code",
   "execution_count": null,
   "metadata": {},
   "outputs": [],
   "source": [
    "interaction_info = interactions[['source','country']].drop_duplicates()\n",
    "interaction_info.columns = ['userid','country']"
   ]
  },
  {
   "cell_type": "code",
   "execution_count": null,
   "metadata": {},
   "outputs": [],
   "source": [
    "i2 = interactions[['target','country']].drop_duplicates()\n",
    "i2.columns = ['userid','country']"
   ]
  },
  {
   "cell_type": "code",
   "execution_count": null,
   "metadata": {},
   "outputs": [],
   "source": [
    "interaction_info = interaction_info.append(i2).drop_duplicates()"
   ]
  },
  {
   "cell_type": "code",
   "execution_count": null,
   "metadata": {},
   "outputs": [],
   "source": [
    "user_info = user_info.append(interaction_info).drop_duplicates()"
   ]
  },
  {
   "cell_type": "code",
   "execution_count": null,
   "metadata": {},
   "outputs": [],
   "source": [
    "partitions = pd.Series(part).reset_index()\n",
    "partitions.columns = ['userid','community']"
   ]
  },
  {
   "cell_type": "code",
   "execution_count": null,
   "metadata": {},
   "outputs": [],
   "source": [
    "user_info = user_info.merge(partitions, on='userid')\n",
    "community_info = user_info.groupby(['community','country'])['userid'].count().unstack('country')\n",
    "community_info = community_info.fillna(0)\n",
    "community_info['total'] = community_info['iran'] + community_info['russia']\n",
    "community_info = community_info[community_info['total'] > 200]\n",
    "communities = community_info.index.values"
   ]
  },
  {
   "cell_type": "code",
   "execution_count": null,
   "metadata": {},
   "outputs": [],
   "source": [
    "com = 0\n",
    "mapping = {}\n",
    "for c in communities:\n",
    "    mapping[c] = com\n",
    "    com += 1"
   ]
  },
  {
   "cell_type": "code",
   "execution_count": null,
   "metadata": {},
   "outputs": [],
   "source": [
    "user_info['label'] = user_info['community'].map(mapping)"
   ]
  },
  {
   "cell_type": "code",
   "execution_count": null,
   "metadata": {},
   "outputs": [],
   "source": [
    "user_info.loc[(~user_info['community'].isin(communities)) & (user_info['country'] == 'iran'), 'label'] = com\n",
    "com += 1\n",
    "user_info.loc[(~user_info['community'].isin(communities)) & (user_info['country'] == 'russia'), 'label'] = com"
   ]
  },
  {
   "cell_type": "code",
   "execution_count": null,
   "metadata": {},
   "outputs": [],
   "source": [
    "mapping = user_info[['userid','label']].set_index('userid')['label'].to_dict()"
   ]
  },
  {
   "cell_type": "code",
   "execution_count": null,
   "metadata": {},
   "outputs": [],
   "source": []
  },
  {
   "cell_type": "code",
   "execution_count": null,
   "metadata": {},
   "outputs": [],
   "source": []
  },
  {
   "cell_type": "code",
   "execution_count": null,
   "metadata": {},
   "outputs": [],
   "source": []
  },
  {
   "cell_type": "code",
   "execution_count": null,
   "metadata": {},
   "outputs": [],
   "source": []
  },
  {
   "cell_type": "code",
   "execution_count": null,
   "metadata": {},
   "outputs": [],
   "source": []
  }
 ],
 "metadata": {
  "kernelspec": {
   "display_name": "Python 3",
   "language": "python",
   "name": "python3"
  },
  "language_info": {
   "codemirror_mode": {
    "name": "ipython",
    "version": 3
   },
   "file_extension": ".py",
   "mimetype": "text/x-python",
   "name": "python",
   "nbconvert_exporter": "python",
   "pygments_lexer": "ipython3",
   "version": "3.8.2-final"
  }
 },
 "nbformat": 4,
 "nbformat_minor": 4
}