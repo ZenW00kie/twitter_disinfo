{
 "cells": [
  {
   "cell_type": "code",
   "execution_count": null,
   "metadata": {},
   "outputs": [],
   "source": [
    "import os\n",
    "os.sys.path.append(os.path.dirname(os.path.abspath('.')))"
   ]
  },
  {
   "cell_type": "code",
   "execution_count": null,
   "metadata": {},
   "outputs": [],
   "source": [
    "import networkx as nx\n",
    "import pandas as pd\n",
    "from matplotlib import pyplot as plt\n",
    "import matplotlib as mpl\n",
    "from src import builder, network_analysis as na\n",
    "plt.style.use('ggplot')"
   ]
  },
  {
   "cell_type": "code",
   "execution_count": null,
   "metadata": {},
   "outputs": [],
   "source": [
    "users, interactions, hashtags, tweets = builder.full_network()"
   ]
  },
  {
   "cell_type": "code",
   "execution_count": null,
   "metadata": {},
   "outputs": [],
   "source": [
    "user_info = builder.user_info()"
   ]
  },
  {
   "cell_type": "code",
   "execution_count": null,
   "metadata": {},
   "outputs": [],
   "source": [
    "core = [u for u in users if u[1]['account'] == 'removed']\n",
    "core_users = [u[0] for u in core]\n",
    "core_interactions = interactions[interactions['source'].isin(core_users) & interactions['target'].isin(core_users)]"
   ]
  },
  {
   "cell_type": "code",
   "execution_count": null,
   "metadata": {},
   "outputs": [],
   "source": [
    "core_info = (core_interactions\n",
    "             .groupby(['source'])\n",
    "             ['retweets', 'replies', 'mentions', 'total'].sum()\n",
    "             .reset_index())\n",
    "core_info = user_info.merge(core_info, left_on='userid', right_on='source')\n",
    "core_info.drop(['source','total'], axis=1, inplace=True)\n",
    "core_info['follower_count'] = core_info['follower_count'].astype(float)\n",
    "core_info['following_count'] = core_info['following_count'].astype(float)\n",
    "core_info = core_info.set_index('userid')"
   ]
  },
  {
   "cell_type": "code",
   "execution_count": null,
   "metadata": {},
   "outputs": [],
   "source": [
    "del interactions"
   ]
  },
  {
   "cell_type": "markdown",
   "metadata": {},
   "source": [
    "# Core Graph"
   ]
  },
  {
   "cell_type": "code",
   "execution_count": null,
   "metadata": {},
   "outputs": [],
   "source": [
    "self_contact = (core_interactions\n",
    "                [core_interactions['source'] == core_interactions['target']]\n",
    "                ['source'].unique())\n",
    "other_contact = (core_interactions\n",
    "                 [core_interactions['source'] != core_interactions['target']]\n",
    "                 ['source'].unique())\n",
    "self_contact = [u for u in self_contact if u not in other_contact]\n",
    "self_contact = [u for u in self_contact if u not in other_contact]"
   ]
  },
  {
   "cell_type": "code",
   "execution_count": null,
   "metadata": {},
   "outputs": [],
   "source": [
    "core_interactions = core_interactions[~core_interactions['source'].isin(self_contact)]"
   ]
  },
  {
   "cell_type": "code",
   "execution_count": null,
   "metadata": {},
   "outputs": [],
   "source": [
    "undirected_core = nx.Graph()\n",
    "undirected_core.add_weighted_edges_from(core_interactions[['source','target','total']].values, weight='total')"
   ]
  },
  {
   "cell_type": "code",
   "execution_count": null,
   "metadata": {},
   "outputs": [],
   "source": [
    "plt.figure(num=None, figsize=(20, 20), dpi=80)\n",
    "fig = plt.figure(1)\n",
    "pos = nx.draw_kamada_kawai(undirected_core, node_size=5, node_color='#ffffff')\n",
    "plt.axis('off')\n",
    "plt.savefig('core.png',bbox_inches=\"tight\", transparent=True)\n",
    "plt.close()"
   ]
  },
  {
   "source": [
    "### Louvain Communities"
   ],
   "cell_type": "markdown",
   "metadata": {}
  },
  {
   "cell_type": "code",
   "execution_count": null,
   "metadata": {},
   "outputs": [],
   "source": [
    "part, mod = na.louvain(undirected_core)\n",
    "partitions = pd.Series(part).reset_index()\n",
    "partitions.columns = ['userid','community']"
   ]
  },
  {
   "cell_type": "code",
   "execution_count": null,
   "metadata": {},
   "outputs": [],
   "source": [
    "user_info = (user_info[~user_info['userid'].isin(self_contact)]\n",
    "             .drop(['follower_count','following_count',\n",
    "                    'account_creation_date','account_language'], axis=1))\n",
    "user_info = user_info.merge(partitions, on='userid')"
   ]
  },
  {
   "cell_type": "code",
   "execution_count": null,
   "metadata": {},
   "outputs": [],
   "source": [
    "community_info = user_info.groupby(['country','community'])['userid'].count().unstack('country')\n",
    "community_info = community_info.fillna(0)\n",
    "community_info['total'] = community_info['iran'] + community_info['russia']"
   ]
  },
  {
   "cell_type": "code",
   "execution_count": null,
   "metadata": {},
   "outputs": [],
   "source": [
    "fig, ax = plt.subplots(1,1,figsize=(15,12))\n",
    "community_info['total'].plot(kind='hist', ax=ax)\n",
    "plt.title('Distribution of Community Size - Before Consolidation')\n",
    "ax.set_xlabel('Community Size')\n",
    "plt.savefig('communities_before_consolidation.png', bbox_inches='tight')\n",
    "plt.close()"
   ]
  },
  {
   "cell_type": "code",
   "execution_count": null,
   "metadata": {},
   "outputs": [],
   "source": [
    "communities = community_info[community_info['total'] > 50].index.values"
   ]
  },
  {
   "cell_type": "code",
   "execution_count": null,
   "metadata": {},
   "outputs": [],
   "source": [
    "com = 0\n",
    "mapping = {}\n",
    "for c in communities:\n",
    "    mapping[c] = com\n",
    "    com += 1"
   ]
  },
  {
   "cell_type": "code",
   "execution_count": null,
   "metadata": {},
   "outputs": [],
   "source": [
    "user_info['label'] = user_info['community'].map(mapping)\n",
    "user_info.loc[((~user_info['community'].isin(communities)) & \n",
    "               (user_info['country'] == 'iran')), 'label'] = com\n",
    "com += 1\n",
    "user_info.loc[((~user_info['community'].isin(communities)) & \n",
    "               (user_info['country'] == 'russia')), 'label'] = com"
   ]
  },
  {
   "cell_type": "code",
   "execution_count": null,
   "metadata": {},
   "outputs": [],
   "source": [
    "fig, ax = plt.subplots(1,1,figsize=(15,12))\n",
    "user_info.groupby(['label'])['userid'].count().plot(kind='hist')\n",
    "plt.title('Distribution of Community Size - After Consolidation')\n",
    "ax.set_xlabel('Community Size')\n",
    "plt.savefig('communities_after_consolidation.png', bbox_inches='tight')\n",
    "plt.close()"
   ]
  },
  {
   "cell_type": "code",
   "execution_count": null,
   "metadata": {},
   "outputs": [],
   "source": [
    "mapping = user_info[['userid','label']].set_index('userid')['label'].to_dict()\n",
    "nodes = [u for u in undirected_core.nodes() if u in mapping.keys()]\n",
    "undirected_plot = undirected_core.subgraph(nodes)"
   ]
  },
  {
   "cell_type": "code",
   "execution_count": null,
   "metadata": {},
   "outputs": [],
   "source": [
    "old_title = mpl.rcParams['text.color']\n",
    "mpl.rcParams['text.color'] = 'w'"
   ]
  },
  {
   "cell_type": "code",
   "execution_count": null,
   "metadata": {},
   "outputs": [],
   "source": [
    "plt.figure(num=None, figsize=(20, 20), dpi=80)\n",
    "fig = plt.figure(1)\n",
    "pos = nx.kamada_kawai_layout(undirected_plot)\n",
    "drn = nx.draw_networkx_nodes(undirected_plot, pos=pos, nodelist=nodes, node_color=list(mapping.values()), node_size=5, cmap=plt.cm.tab20)\n",
    "dre = nx.draw_networkx_edges(undirected_plot, pos=pos, alpha=0.2, edge_color='#ffffff')\n",
    "plt.axis('off')\n",
    "plt.title('Russian & Iranian Suspended Twitter Accounts Grouped by Community')\n",
    "plt.savefig('core_communities.png',bbox_inches=\"tight\",transparent=True)\n",
    "plt.close()"
   ]
  },
  {
   "cell_type": "code",
   "execution_count": null,
   "metadata": {},
   "outputs": [],
   "source": [
    "mpl.rcParams['text.color'] = old_title"
   ]
  },
  {
   "cell_type": "markdown",
   "metadata": {},
   "source": [
    "# Full Graph"
   ]
  },
  {
   "cell_type": "code",
   "execution_count": null,
   "metadata": {},
   "outputs": [],
   "source": [
    "full_graph = nx.Graph()\n",
    "full_graph.add_weighted_edges_from(interactions[['source','target','total']].values, weight='total')"
   ]
  },
  {
   "cell_type": "code",
   "execution_count": null,
   "metadata": {},
   "outputs": [],
   "source": [
    "part, mod = louvain(full_graph)"
   ]
  },
  {
   "cell_type": "code",
   "execution_count": null,
   "metadata": {},
   "outputs": [],
   "source": [
    "user_info.drop(['follower_count','following_count','account_creation_date','account_language'], axis=1, inplace=True)"
   ]
  },
  {
   "cell_type": "code",
   "execution_count": null,
   "metadata": {},
   "outputs": [],
   "source": [
    "interaction_info = interactions[['source','country']].drop_duplicates()\n",
    "interaction_info.columns = ['userid','country']"
   ]
  },
  {
   "cell_type": "code",
   "execution_count": null,
   "metadata": {},
   "outputs": [],
   "source": [
    "i2 = interactions[['target','country']].drop_duplicates()\n",
    "i2.columns = ['userid','country']"
   ]
  },
  {
   "cell_type": "code",
   "execution_count": null,
   "metadata": {},
   "outputs": [],
   "source": [
    "interaction_info = interaction_info.append(i2).drop_duplicates()"
   ]
  },
  {
   "cell_type": "code",
   "execution_count": null,
   "metadata": {},
   "outputs": [],
   "source": [
    "user_info = user_info.append(interaction_info).drop_duplicates()"
   ]
  },
  {
   "cell_type": "code",
   "execution_count": null,
   "metadata": {},
   "outputs": [],
   "source": [
    "partitions = pd.Series(part).reset_index()\n",
    "partitions.columns = ['userid','community']"
   ]
  },
  {
   "cell_type": "code",
   "execution_count": null,
   "metadata": {},
   "outputs": [],
   "source": [
    "user_info = user_info.merge(partitions, on='userid')\n",
    "community_info = user_info.groupby(['community','country'])['userid'].count().unstack('country')\n",
    "community_info = community_info.fillna(0)\n",
    "community_info['total'] = community_info['iran'] + community_info['russia']\n",
    "community_info = community_info[community_info['total'] > 200]\n",
    "communities = community_info.index.values"
   ]
  },
  {
   "cell_type": "code",
   "execution_count": null,
   "metadata": {},
   "outputs": [],
   "source": [
    "com = 0\n",
    "mapping = {}\n",
    "for c in communities:\n",
    "    mapping[c] = com\n",
    "    com += 1"
   ]
  },
  {
   "cell_type": "code",
   "execution_count": null,
   "metadata": {},
   "outputs": [],
   "source": [
    "user_info['label'] = user_info['community'].map(mapping)"
   ]
  },
  {
   "cell_type": "code",
   "execution_count": null,
   "metadata": {},
   "outputs": [],
   "source": [
    "user_info.loc[(~user_info['community'].isin(communities)) & (user_info['country'] == 'iran'), 'label'] = com\n",
    "com += 1\n",
    "user_info.loc[(~user_info['community'].isin(communities)) & (user_info['country'] == 'russia'), 'label'] = com"
   ]
  },
  {
   "cell_type": "code",
   "execution_count": null,
   "metadata": {},
   "outputs": [],
   "source": [
    "mapping = user_info[['userid','label']].set_index('userid')['label'].to_dict()"
   ]
  },
  {
   "cell_type": "code",
   "execution_count": null,
   "metadata": {},
   "outputs": [],
   "source": []
  },
  {
   "cell_type": "code",
   "execution_count": null,
   "metadata": {},
   "outputs": [],
   "source": []
  },
  {
   "cell_type": "code",
   "execution_count": null,
   "metadata": {},
   "outputs": [],
   "source": []
  },
  {
   "cell_type": "code",
   "execution_count": null,
   "metadata": {},
   "outputs": [],
   "source": []
  },
  {
   "cell_type": "code",
   "execution_count": null,
   "metadata": {},
   "outputs": [],
   "source": []
  }
 ],
 "metadata": {
  "kernelspec": {
   "display_name": "Python 3",
   "language": "python",
   "name": "python3"
  },
  "language_info": {
   "codemirror_mode": {
    "name": "ipython",
    "version": 3
   },
   "file_extension": ".py",
   "mimetype": "text/x-python",
   "name": "python",
   "nbconvert_exporter": "python",
   "pygments_lexer": "ipython3",
   "version": "3.8.2-final"
  }
 },
 "nbformat": 4,
 "nbformat_minor": 4
}