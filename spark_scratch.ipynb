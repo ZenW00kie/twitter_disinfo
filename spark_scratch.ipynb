{
 "cells": [
  {
   "cell_type": "code",
   "execution_count": 1,
   "metadata": {},
   "outputs": [],
   "source": [
    "import findspark\n",
    "findspark.init()\n",
    "\n",
    "import pyspark\n",
    "\n",
    "from pyspark.sql import SparkSession\n",
    "from pyspark.sql.functions import count\n",
    "\n",
    "spark = SparkSession.builder.getOrCreate()"
   ]
  },
  {
   "cell_type": "code",
   "execution_count": 2,
   "metadata": {},
   "outputs": [],
   "source": [
    "df = spark.read.csv('data/iran/iran_tweets.csv', header=True)"
   ]
  },
  {
   "cell_type": "code",
   "execution_count": 3,
   "metadata": {},
   "outputs": [],
   "source": [
    "users = spark.read.csv('data/iran/iran_users.csv', header=True)"
   ]
  },
  {
   "cell_type": "code",
   "execution_count": 23,
   "metadata": {},
   "outputs": [
    {
     "name": "stdout",
     "output_type": "stream",
     "text": [
      "+--------------------------------------------+-------+\n",
      "|userid                                      |count  |\n",
      "+--------------------------------------------+-------+\n",
      "|null                                        |6539906|\n",
      "|3232244922                                  |491449 |\n",
      "|MI2VFTr7t2qJWnbXsEOWWtswIVei41lFaW8ZtXO40=  |260533 |\n",
      "|794223726                                   |238346 |\n",
      "|6EJcqlIs7kCjuKrkWX7N9mFmMsOI2ipv0TUxbgSZZfM=|183450 |\n",
      "|754954251982471168                          |168702 |\n",
      "|3244553443                                  |167437 |\n",
      "|715843641869254656                          |166993 |\n",
      "|wLGHEKTPfERsSbtDs1nJ6Utw++MHfMN6S8dIYzQDQLc=|148721 |\n",
      "|629468373                                   |148128 |\n",
      "|dJXIHhnPuf6vbf2FLMkUrX476KZeby4B2Eia99E+Xs= |147682 |\n",
      "|988390432022417414                          |106196 |\n",
      "|SeKrvRkNdjke4VtmUwmJjjG38oaTGxFLnnYsJlnNINw=|87316  |\n",
      "|704751473842851840                          |84564  |\n",
      "|https://t.co/PhhwB1zjSD                     |84564  |\n",
      "|728268227017617408                          |79995  |\n",
      "|736830497721028608                          |72105  |\n",
      "|727178454253375489                          |71151  |\n",
      "|https://t.co/4M81ZHIyAH                     |71151  |\n",
      "|853936563469914113                          |70929  |\n",
      "+--------------------------------------------+-------+\n",
      "only showing top 20 rows\n",
      "\n"
     ]
    }
   ],
   "source": [
    "user_tweet_count = df.groupby('userid').count().orderBy('count', ascending=False).show(20, False)"
   ]
  },
  {
   "cell_type": "code",
   "execution_count": 22,
   "metadata": {},
   "outputs": [
    {
     "name": "stdout",
     "output_type": "stream",
     "text": [
      "+------+-----------------+----------------+----------------------+------------------------+----------------+--------------+---------------+---------------------+----------------+----+\n",
      "|userid|user_display_name|user_screen_name|user_reported_location|user_profile_description|user_profile_url|follower_count|following_count|account_creation_date|account_language|file|\n",
      "+------+-----------------+----------------+----------------------+------------------------+----------------+--------------+---------------+---------------------+----------------+----+\n",
      "+------+-----------------+----------------+----------------------+------------------------+----------------+--------------+---------------+---------------------+----------------+----+\n",
      "\n"
     ]
    }
   ],
   "source": [
    "users.filter(users.userid == 'https://t.co/4M81ZHIyAH').show()"
   ]
  },
  {
   "cell_type": "code",
   "execution_count": 21,
   "metadata": {},
   "outputs": [
    {
     "name": "stdout",
     "output_type": "stream",
     "text": [
      "+--------------------+--------------+-------+\n",
      "|              userid|retweet_userid|  count|\n",
      "+--------------------+--------------+-------+\n",
      "|                null|          null|5914860|\n",
      "|                null|           0.0| 587491|\n",
      "|          3232244922|          null| 491449|\n",
      "|MI2VFTr7t2qJWnbXs...|          null| 260526|\n",
      "|           794223726|          null| 238346|\n",
      "|6EJcqlIs7kCjuKrkW...|          null| 180632|\n",
      "|  715843641869254656|          null| 166993|\n",
      "|          3244553443|          null| 166942|\n",
      "|wLGHEKTPfERsSbtDs...|          null| 148284|\n",
      "|           629468373|          null| 148115|\n",
      "|dJXIHhnPuf6vbf2FL...|          null| 146554|\n",
      "|  988390432022417414|          null| 105631|\n",
      "|  754954251982471168|          null| 104488|\n",
      "|SeKrvRkNdjke4VtmU...|          null|  87199|\n",
      "|  704751473842851840|          null|  84564|\n",
      "|  727178454253375489|          null|  71151|\n",
      "|  853936563469914113|          null|  70929|\n",
      "|  775151787187826688|          null|  63748|\n",
      "|          3430286633|          null|  62523|\n",
      "|  707915654842572800|          null|  62326|\n",
      "+--------------------+--------------+-------+\n",
      "only showing top 20 rows\n",
      "\n"
     ]
    }
   ],
   "source": [
    "df.groupby('userid','retweet_userid').count().orderBy('count',ascending=False).show()"
   ]
  },
  {
   "cell_type": "code",
   "execution_count": 20,
   "metadata": {},
   "outputs": [
    {
     "name": "stdout",
     "output_type": "stream",
     "text": [
      "+--------------------+----------------+-----------------+----------------+----------------------+------------------------+----------------+--------------+---------------+---------------------+----------------+--------------+----------+----------+-----------------+------------------+--------------------+--------------------+--------------------+--------------+---------------+--------+---------+-----------+-----------+----------+-------------+--------+----+-------------+----+------------+\n",
      "|             tweetid|          userid|user_display_name|user_screen_name|user_reported_location|user_profile_description|user_profile_url|follower_count|following_count|account_creation_date|account_language|tweet_language|tweet_text|tweet_time|tweet_client_name|in_reply_to_userid| in_reply_to_tweetid|quoted_tweet_tweetid|          is_retweet|retweet_userid|retweet_tweetid|latitude|longitude|quote_count|reply_count|like_count|retweet_count|hashtags|urls|user_mentions|file|poll_choices|\n",
      "+--------------------+----------------+-----------------+----------------+----------------------+------------------------+----------------+--------------+---------------+---------------------+----------------+--------------+----------+----------+-----------------+------------------+--------------------+--------------------+--------------------+--------------+---------------+--------+---------+-----------+-----------+----------+-------------+--------+----+-------------+----+------------+\n",
      "|https://t.co/061S...|2020-05-20 11:11|  Twitter Web App|            null|                  null|                    null|           False|          null|           null|               absent|          absent|           0.0|       0.0|       0.0|              0.0|                []|['https://on.wsj....|                  []|iran_092020_tweet...|          null|           null|    null|     null|       null|       null|      null|         null|    null|null|         null|null|        null|\n",
      "|https://t.co/Qvfa...|2020-05-20 11:11|  Twitter Web App|            null|                  null|                    null|           False|          null|           null|               absent|          absent|           0.0|       0.0|       0.0|              0.0|                []|['https://on.wsj....|                  []|iran_092020_tweet...|          null|           null|    null|     null|       null|       null|      null|         null|    null|null|         null|null|        null|\n",
      "|https://t.co/K7nV...|2020-05-20 11:11|  Twitter Web App|            null|                  null|                    null|           False|          null|           null|               absent|          absent|           0.0|       0.0|       0.0|              0.0|                []|['https://on.wsj....|                  []|iran_092020_tweet...|          null|           null|    null|     null|       null|       null|      null|         null|    null|null|         null|null|        null|\n",
      "+--------------------+----------------+-----------------+----------------+----------------------+------------------------+----------------+--------------+---------------+---------------------+----------------+--------------+----------+----------+-----------------+------------------+--------------------+--------------------+--------------------+--------------+---------------+--------+---------+-----------+-----------+----------+-------------+--------+----+-------------+----+------------+\n",
      "\n"
     ]
    }
   ],
   "source": [
    "df.filter(df.userid == '2020-05-20 11:11').show()"
   ]
  },
  {
   "cell_type": "code",
   "execution_count": null,
   "metadata": {},
   "outputs": [],
   "source": []
  },
  {
   "cell_type": "code",
   "execution_count": null,
   "metadata": {},
   "outputs": [],
   "source": []
  },
  {
   "cell_type": "code",
   "execution_count": null,
   "metadata": {},
   "outputs": [],
   "source": []
  }
 ],
 "metadata": {
  "kernelspec": {
   "display_name": "Python 3",
   "language": "python",
   "name": "python3"
  },
  "language_info": {
   "codemirror_mode": {
    "name": "ipython",
    "version": 3
   },
   "file_extension": ".py",
   "mimetype": "text/x-python",
   "name": "python",
   "nbconvert_exporter": "python",
   "pygments_lexer": "ipython3",
   "version": "3.7.7"
  }
 },
 "nbformat": 4,
 "nbformat_minor": 4
}
