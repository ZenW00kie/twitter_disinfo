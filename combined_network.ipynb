{
 "cells": [
  {
   "cell_type": "code",
   "execution_count": 2,
   "metadata": {},
   "outputs": [],
   "source": [
    "import networkx as nx\n",
    "from matplotlib import pyplot as plt\n",
    "import pandas as pd\n",
    "import numpy as np\n",
    "from itertools import count\n",
    "from multiprocessing.dummy import Pool as ThreadPool\n",
    "import json\n",
    "import builder"
   ]
  },
  {
   "cell_type": "code",
   "execution_count": 3,
   "metadata": {},
   "outputs": [],
   "source": [
    "users, interactions = builder.full_network()"
   ]
  },
  {
   "cell_type": "code",
   "execution_count": 4,
   "metadata": {},
   "outputs": [],
   "source": [
    "core = [u for u in users if u[1]['account'] == 'removed']\n",
    "core_users = [u[0] for u in core]\n",
    "core_interactions = interactions[interactions['source'].isin(core_users) & interactions['target'].isin(core_users)]"
   ]
  },
  {
   "cell_type": "markdown",
   "metadata": {},
   "source": [
    "## Core Graph"
   ]
  },
  {
   "cell_type": "code",
   "execution_count": null,
   "metadata": {},
   "outputs": [],
   "source": [
    "directed_core = nx.DiGraph()\n",
    "directed_core.add_nodes_from(users)\n",
    "directed_core.add_weighted_edges_from(interactions[['source','target','total']].values, weight='total')"
   ]
  },
  {
   "cell_type": "code",
   "execution_count": null,
   "metadata": {},
   "outputs": [],
   "source": []
  },
  {
   "cell_type": "markdown",
   "metadata": {},
   "source": [
    "## Full Directed Graph"
   ]
  },
  {
   "cell_type": "code",
   "execution_count": 1,
   "metadata": {},
   "outputs": [],
   "source": [
    "def pagerank_individual(user):\n",
    "    pp_dict = personalization.copy()\n",
    "    for k in pp_dict.keys():\n",
    "        if k == user:\n",
    "            pp_dict[k] = 1\n",
    "        else:\n",
    "            pp_dict[k] = 0\n",
    "    pp1 = nx.pagerank(directed_full,personalization=pp_dict)\n",
    "    with open('pagerank/' + user + '.json', 'w') as f:\n",
    "        json.dump(pp1, f)\n",
    "    del pp1\n",
    "    del pp_dict"
   ]
  },
  {
   "cell_type": "code",
   "execution_count": 5,
   "metadata": {},
   "outputs": [],
   "source": [
    "directed_full = nx.DiGraph()\n",
    "directed_full.add_nodes_from(users)\n",
    "directed_full.add_weighted_edges_from(interactions[['source','target','total']].values, weight='total')"
   ]
  },
  {
   "cell_type": "code",
   "execution_count": 6,
   "metadata": {},
   "outputs": [],
   "source": [
    "personalization = {}"
   ]
  },
  {
   "cell_type": "code",
   "execution_count": 7,
   "metadata": {},
   "outputs": [],
   "source": [
    "for n in directed_full.nodes():\n",
    "    personalization[n] = np.nan"
   ]
  },
  {
   "cell_type": "code",
   "execution_count": 8,
   "metadata": {},
   "outputs": [],
   "source": [
    "import os\n",
    "files = [f.strip('.json') for f in os.listdir('pagerank')]"
   ]
  },
  {
   "cell_type": "code",
   "execution_count": null,
   "metadata": {},
   "outputs": [],
   "source": [
    "pool = ThreadPool(2)\n",
    "_ = pool.map(pagerank_individual, [u for u in core_users if u not in files])"
   ]
  },
  {
   "cell_type": "code",
   "execution_count": null,
   "metadata": {},
   "outputs": [],
   "source": []
  }
 ],
 "metadata": {
  "kernelspec": {
   "display_name": "Python 3",
   "language": "python",
   "name": "python3"
  },
  "language_info": {
   "codemirror_mode": {
    "name": "ipython",
    "version": 3
   },
   "file_extension": ".py",
   "mimetype": "text/x-python",
   "name": "python",
   "nbconvert_exporter": "python",
   "pygments_lexer": "ipython3",
   "version": "3.7.7"
  }
 },
 "nbformat": 4,
 "nbformat_minor": 4
}
